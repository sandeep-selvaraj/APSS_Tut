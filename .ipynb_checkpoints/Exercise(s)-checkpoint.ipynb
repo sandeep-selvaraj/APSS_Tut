{
 "cells": [
  {
   "cell_type": "markdown",
   "id": "6d011092",
   "metadata": {},
   "source": [
    "# Exercise 1\n",
    "## Bridge Crossing problem\n",
    "\n",
    "### Consider the Bridge-Crossing Problem, where 4 persons are on one side of a bridge and all of them need to get to the other side. It is nighttime and they have only one torch. However, the bridge is built to only withstand 2 persons. Also, the torch needs to be brought back to the remaining persons on the other side. Each person walks at a different speed and when they go together they must walk at the speed of the slowest. The goal is to find the minimal time for all persons to cross the bridge. \n",
    "\n",
    "### Person Crossing Time\n",
    "\n",
    "### A 1 Min.\n",
    "### B 2 Min.\n",
    "### C 5 Min.\n",
    "### D 10 Min.\n",
    "\n",
    "\n",
    "a) Can you think of a dynamic programming algorithm to compute the solution?\n",
    "\n",
    "b) Is there a general procedure which finds an optimal solution for an arbitrary number of people and crossing times?"
   ]
  },
  {
   "cell_type": "code",
   "execution_count": 24,
   "id": "066d9824",
   "metadata": {},
   "outputs": [],
   "source": [
    "def time_taken(lt):\n",
    "    if lt is None:\n",
    "        return 0\n",
    "    if len(lt) == 1:\n",
    "        return lt[0]\n",
    "    else:\n",
    "        lt.sort()\n",
    "        max_len = len(lt)\n",
    "        max_val = lt[max_len - 1]\n",
    "    if max_len >= 1:\n",
    "        lt.pop()   \n",
    "    \n",
    "    print(lt)\n",
    "    tot_sum = lt[0] + max_val + time_taken(lt)\n",
    "    return tot_sum\n",
    "   "
   ]
  },
  {
   "cell_type": "code",
   "execution_count": 28,
   "id": "4c4990b3",
   "metadata": {},
   "outputs": [
    {
     "name": "stdout",
     "output_type": "stream",
     "text": [
      "[1, 2, 5]\n",
      "[1, 2]\n",
      "[1]\n"
     ]
    },
    {
     "data": {
      "text/plain": [
       "21"
      ]
     },
     "execution_count": 28,
     "metadata": {},
     "output_type": "execute_result"
    }
   ],
   "source": [
    "lt = [1, 2, 5, 10]\n",
    "time_taken(lt)"
   ]
  }
 ],
 "metadata": {
  "kernelspec": {
   "display_name": "Python 3 (ipykernel)",
   "language": "python",
   "name": "python3"
  },
  "language_info": {
   "codemirror_mode": {
    "name": "ipython",
    "version": 3
   },
   "file_extension": ".py",
   "mimetype": "text/x-python",
   "name": "python",
   "nbconvert_exporter": "python",
   "pygments_lexer": "ipython3",
   "version": "3.9.12"
  }
 },
 "nbformat": 4,
 "nbformat_minor": 5
}
